{
 "cells": [
  {
   "cell_type": "code",
   "execution_count": null,
   "metadata": {
    "colab": {
     "background_save": true
    },
    "id": "5Y47mpwz0zKZ"
   },
   "outputs": [],
   "source": [
    "import numpy as np\n",
    "import pandas as pd\n",
    "import matplotlib.pyplot as plt\n",
    "import seaborn as sns\n",
    "import warnings \n",
    "warnings.filterwarnings('ignore')"
   ]
  },
  {
   "cell_type": "code",
   "execution_count": null,
   "metadata": {
    "colab": {
     "base_uri": "https://localhost:8080/",
     "height": 359
    },
    "id": "3HxtDdBd2K4T",
    "outputId": "121307af-be07-4e7d-8a4c-39e70ea77778"
   },
   "outputs": [
    {
     "data": {
      "text/html": [
       "<div>\n",
       "<style scoped>\n",
       "    .dataframe tbody tr th:only-of-type {\n",
       "        vertical-align: middle;\n",
       "    }\n",
       "\n",
       "    .dataframe tbody tr th {\n",
       "        vertical-align: top;\n",
       "    }\n",
       "\n",
       "    .dataframe thead th {\n",
       "        text-align: right;\n",
       "    }\n",
       "</style>\n",
       "<table border=\"1\" class=\"dataframe\">\n",
       "  <thead>\n",
       "    <tr style=\"text-align: right;\">\n",
       "      <th></th>\n",
       "      <th>Sentence #</th>\n",
       "      <th>Word</th>\n",
       "      <th>POS</th>\n",
       "      <th>Tag</th>\n",
       "    </tr>\n",
       "  </thead>\n",
       "  <tbody>\n",
       "    <tr>\n",
       "      <th>0</th>\n",
       "      <td>Sentence: 1</td>\n",
       "      <td>Thousands</td>\n",
       "      <td>NNS</td>\n",
       "      <td>O</td>\n",
       "    </tr>\n",
       "    <tr>\n",
       "      <th>1</th>\n",
       "      <td>Sentence: 1</td>\n",
       "      <td>of</td>\n",
       "      <td>IN</td>\n",
       "      <td>O</td>\n",
       "    </tr>\n",
       "    <tr>\n",
       "      <th>2</th>\n",
       "      <td>Sentence: 1</td>\n",
       "      <td>demonstrators</td>\n",
       "      <td>NNS</td>\n",
       "      <td>O</td>\n",
       "    </tr>\n",
       "    <tr>\n",
       "      <th>3</th>\n",
       "      <td>Sentence: 1</td>\n",
       "      <td>have</td>\n",
       "      <td>VBP</td>\n",
       "      <td>O</td>\n",
       "    </tr>\n",
       "    <tr>\n",
       "      <th>4</th>\n",
       "      <td>Sentence: 1</td>\n",
       "      <td>marched</td>\n",
       "      <td>VBN</td>\n",
       "      <td>O</td>\n",
       "    </tr>\n",
       "    <tr>\n",
       "      <th>1048570</th>\n",
       "      <td>Sentence: 47959</td>\n",
       "      <td>they</td>\n",
       "      <td>PRP</td>\n",
       "      <td>O</td>\n",
       "    </tr>\n",
       "    <tr>\n",
       "      <th>1048571</th>\n",
       "      <td>Sentence: 47959</td>\n",
       "      <td>responded</td>\n",
       "      <td>VBD</td>\n",
       "      <td>O</td>\n",
       "    </tr>\n",
       "    <tr>\n",
       "      <th>1048572</th>\n",
       "      <td>Sentence: 47959</td>\n",
       "      <td>to</td>\n",
       "      <td>TO</td>\n",
       "      <td>O</td>\n",
       "    </tr>\n",
       "    <tr>\n",
       "      <th>1048573</th>\n",
       "      <td>Sentence: 47959</td>\n",
       "      <td>the</td>\n",
       "      <td>DT</td>\n",
       "      <td>O</td>\n",
       "    </tr>\n",
       "    <tr>\n",
       "      <th>1048574</th>\n",
       "      <td>Sentence: 47959</td>\n",
       "      <td>attack</td>\n",
       "      <td>NN</td>\n",
       "      <td>O</td>\n",
       "    </tr>\n",
       "  </tbody>\n",
       "</table>\n",
       "</div>"
      ],
      "text/plain": [
       "              Sentence #           Word  POS Tag\n",
       "0            Sentence: 1      Thousands  NNS   O\n",
       "1            Sentence: 1             of   IN   O\n",
       "2            Sentence: 1  demonstrators  NNS   O\n",
       "3            Sentence: 1           have  VBP   O\n",
       "4            Sentence: 1        marched  VBN   O\n",
       "1048570  Sentence: 47959           they  PRP   O\n",
       "1048571  Sentence: 47959      responded  VBD   O\n",
       "1048572  Sentence: 47959             to   TO   O\n",
       "1048573  Sentence: 47959            the   DT   O\n",
       "1048574  Sentence: 47959         attack   NN   O"
      ]
     },
     "execution_count": 27,
     "metadata": {
      "tags": []
     },
     "output_type": "execute_result"
    }
   ],
   "source": [
    "data = pd.read_csv('/content/ner_dataset.csv', encoding = 'latin1')\n",
    "data.fillna(method = 'ffill', inplace = True)\n",
    "data.head().append(data.tail())"
   ]
  },
  {
   "cell_type": "code",
   "execution_count": null,
   "metadata": {
    "id": "65LZnMFT2K1Z"
   },
   "outputs": [],
   "source": [
    "data.drop(['POS'], axis = 1, inplace = True)"
   ]
  },
  {
   "cell_type": "code",
   "execution_count": null,
   "metadata": {
    "colab": {
     "base_uri": "https://localhost:8080/"
    },
    "id": "GLaH7WUK08iK",
    "outputId": "028752c2-bcc2-4d32-a2f0-5851b4f96563"
   },
   "outputs": [
    {
     "name": "stdout",
     "output_type": "stream",
     "text": [
      "35178 17\n"
     ]
    }
   ],
   "source": [
    "words = list(set(data['Word'].values))\n",
    "num_words = len(words)\n",
    "tags = list(set(data['Tag'].values))\n",
    "n_tags = len(tags)\n",
    "print(num_words, n_tags)"
   ]
  },
  {
   "cell_type": "code",
   "execution_count": null,
   "metadata": {
    "id": "BDm7Fd1f2hzx"
   },
   "outputs": [],
   "source": [
    "class Grouping:\n",
    "    \n",
    "    def __init__(self, data):\n",
    "        self.data = data\n",
    "        self.empty = False\n",
    "        agg_fun = lambda S : [(w, t) for w, t in zip(S['Word'].values.tolist(),\n",
    "                                                     S['Tag'].values.tolist())]\n",
    "        self.group = self.data.groupby('Sentence #').apply(agg_fun)\n",
    "        self.sentence = [sen for sen in self.group]\n"
   ]
  },
  {
   "cell_type": "code",
   "execution_count": null,
   "metadata": {
    "id": "XNEEYqAP2nSu"
   },
   "outputs": [],
   "source": [
    "getter = Grouping(data)\n",
    "sentences = getter.sentence"
   ]
  },
  {
   "cell_type": "code",
   "execution_count": null,
   "metadata": {
    "id": "yo7L61h82tRH"
   },
   "outputs": [],
   "source": [
    "word2idx = {w : i + 1 for i, w in enumerate(words)}\n",
    "tag2idx = {t : i for i, t in enumerate(tags)}"
   ]
  },
  {
   "cell_type": "code",
   "execution_count": null,
   "metadata": {
    "id": "w1MvLXFc3A3l"
   },
   "outputs": [],
   "source": [
    "from tensorflow import keras\n",
    "from tensorflow.keras.preprocessing.sequence import pad_sequences\n",
    "from tensorflow.keras.utils import to_categorical"
   ]
  },
  {
   "cell_type": "code",
   "execution_count": null,
   "metadata": {
    "id": "mqdRP6G73GTR"
   },
   "outputs": [],
   "source": [
    "max_len = 140\n",
    "X = [[word2idx[w[0]] for w in s] for s in sentences]\n",
    "X = pad_sequences(X, maxlen = max_len, padding = 'post', value = num_words - 1)\n",
    "y = [[tag2idx[t[1]] for t in s] for s in sentences]\n",
    "y = pad_sequences(y, maxlen = max_len, padding = 'post', value = tag2idx['O'])\n",
    "y = [to_categorical(i, num_classes = n_tags) for i in y]\n"
   ]
  },
  {
   "cell_type": "code",
   "execution_count": null,
   "metadata": {
    "id": "fOx6jxe53YKx"
   },
   "outputs": [],
   "source": [
    "from sklearn.model_selection import train_test_split\n",
    "X_train, X_test, y_train, y_test = train_test_split(X, y, test_size = 0.2, random_state = 44)"
   ]
  },
  {
   "cell_type": "code",
   "execution_count": null,
   "metadata": {
    "id": "m_YFMkL63dFr"
   },
   "outputs": [],
   "source": [
    "input_dim = num_words + 1 #model.fit() iterates through the input with the range(0:35178). Thus we are adding 1 to fullfil the range(0:35179).\n",
    "output_dim = max_len\n",
    "input_length = max_len"
   ]
  },
  {
   "cell_type": "code",
   "execution_count": null,
   "metadata": {
    "id": "U8sqhWk93hW5"
   },
   "outputs": [],
   "source": [
    "from tensorflow.keras import Model, Sequential, Input\n",
    "from tensorflow.keras.layers import Embedding, Dense, LSTM,Dropout\n",
    "from tensorflow.keras.layers import Bidirectional, TimeDistributed, SpatialDropout1D"
   ]
  },
  {
   "cell_type": "code",
   "execution_count": null,
   "metadata": {
    "id": "nEbOrHSCdEn3"
   },
   "outputs": [],
   "source": [
    "input = Input(shape=(140,))\n",
    "model = Embedding(input_dim = input_dim, output_dim = output_dim, input_length = input_length)(input)\n",
    "model = Dropout(0.2)(model)\n",
    "model = Bidirectional(LSTM(units = 100, recurrent_dropout = 0.1, return_sequences = True))(model)\n",
    "out = TimeDistributed(Dense(units = n_tags, activation = 'softmax'))(model)\n",
    "model=Model(input,out)"
   ]
  },
  {
   "cell_type": "code",
   "execution_count": null,
   "metadata": {
    "colab": {
     "base_uri": "https://localhost:8080/"
    },
    "id": "OBYgBsF7eF-U",
    "outputId": "78da76f4-5f80-4248-c6bb-59f007951da2"
   },
   "outputs": [
    {
     "name": "stdout",
     "output_type": "stream",
     "text": [
      "Model: \"model\"\n",
      "_________________________________________________________________\n",
      "Layer (type)                 Output Shape              Param #   \n",
      "=================================================================\n",
      "input_3 (InputLayer)         [(None, 140)]             0         \n",
      "_________________________________________________________________\n",
      "embedding_10 (Embedding)     (None, 140, 140)          4925060   \n",
      "_________________________________________________________________\n",
      "dropout_6 (Dropout)          (None, 140, 140)          0         \n",
      "_________________________________________________________________\n",
      "bidirectional_3 (Bidirection (None, 140, 200)          192800    \n",
      "_________________________________________________________________\n",
      "time_distributed_3 (TimeDist (None, 140, 17)           3417      \n",
      "=================================================================\n",
      "Total params: 5,121,277\n",
      "Trainable params: 5,121,277\n",
      "Non-trainable params: 0\n",
      "_________________________________________________________________\n"
     ]
    }
   ],
   "source": [
    "model.compile(optimizer = 'adam', loss = 'categorical_crossentropy', metrics = ['accuracy'])\n",
    "model.summary()"
   ]
  },
  {
   "cell_type": "code",
   "execution_count": null,
   "metadata": {
    "colab": {
     "background_save": true,
     "base_uri": "https://localhost:8080/"
    },
    "id": "P8DXbViC3ncq",
    "outputId": "f6502797-603b-4a77-e81a-678bd00d602f"
   },
   "outputs": [
    {
     "name": "stdout",
     "output_type": "stream",
     "text": [
      "Epoch 1/2\n",
      " 6772/11510 [================>.............] - ETA: 31:39 - loss: 0.0371 - accuracy: 0.9906"
     ]
    }
   ],
   "source": [
    "from tensorflow.keras.callbacks import EarlyStopping\n",
    "\n",
    "callbacks = EarlyStopping(monitor = 'val_accuracy', patience = 2, verbose = 1, mode = 'max', restore_best_weights = True)\n",
    "\n",
    "history = model.fit(X_train, np.array(y_train), batch_size = 30, validation_split = 0.1, epochs = 20, callbacks = callbacks, verbose = 1)\n"
   ]
  },
  {
   "cell_type": "code",
   "execution_count": null,
   "metadata": {
    "id": "J_HKKu7U3vBo"
   },
   "outputs": [],
   "source": [
    "model.evaluate(X_test, np.array(y_test))"
   ]
  },
  {
   "cell_type": "code",
   "execution_count": null,
   "metadata": {
    "id": "W-lEUGzP34Cz"
   },
   "outputs": [],
   "source": [
    "i = np.random.randint(0,X_test.shape[0])\n",
    "p = model.predict(np.array([X_test[i]]))\n",
    "p = np.argmax(p, axis =-1)\n",
    "y_true = np.argmax(np.array(y_test), axis =-1)[i]\n",
    "print(\"{:15}{:5}\\t {} \\n\".format(\"Word\",\"True\",\"Pred\"))\n",
    "print(\"-\"*30)\n",
    "for w,true,pred in zip(X_test[i],y_true,p[0]):\n",
    "    print(\"{:15}{}\\t{}\".format(words[w-1],tags[true],tags[pred]))"
   ]
  }
 ],
 "metadata": {
  "colab": {
   "name": "Squence ass2q2.ipynb",
   "provenance": []
  },
  "kernelspec": {
   "display_name": "Python 3",
   "language": "python",
   "name": "python3"
  },
  "language_info": {
   "codemirror_mode": {
    "name": "ipython",
    "version": 3
   },
   "file_extension": ".py",
   "mimetype": "text/x-python",
   "name": "python",
   "nbconvert_exporter": "python",
   "pygments_lexer": "ipython3",
   "version": "3.8.5"
  }
 },
 "nbformat": 4,
 "nbformat_minor": 1
}
